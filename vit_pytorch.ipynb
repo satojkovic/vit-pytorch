{
 "cells": [
  {
   "cell_type": "markdown",
   "metadata": {},
   "source": [
    "# Vision Transformer (ViT) in PyTorch"
   ]
  },
  {
   "cell_type": "markdown",
   "metadata": {},
   "source": [
    "This notebook implements the Vision Transformer (ViT) model in PyTorch, following the paper [An Image is Worth 16x16 Words: Transformers for Image Recognition at Scale](https://arxiv.org/abs/2010.11929)."
   ]
  },
  {
   "cell_type": "markdown",
   "metadata": {},
   "source": [
    "## 1. Setup"
   ]
  },
  {
   "cell_type": "markdown",
   "metadata": {},
   "source": [
    "First, let's install the necessary libraries."
   ]
  },
  {
   "cell_type": "code",
   "execution_count": null,
   "metadata": {},
   "outputs": [],
   "source": [
    "!pip install torch torchvision einops"
   ]
  },
  {
   "cell_type": "markdown",
   "metadata": {},
   "source": [
    "## 2. Model Implementation"
   ]
  },
  {
   "cell_type": "markdown",
   "metadata": {},
   "source": [
    "Next, we'll define the ViT model architecture. This includes the PatchEncoder, Multi-Head Self-Attention, MLP, and the main ViT class."
   ]
  },
  {
   "cell_type": "code",
   "execution_count": null,
   "metadata": {},
   "outputs": [],
   "source": [
    "import torch\n",
    "import torch.nn as nn\n",
    "from torch.nn import functional as F\n",
    "import einops\n",
    "import math\n",
    "\n",
    "class PatchEncoder(nn.Module):\n",
    "    def __init__(self, image_size, in_channels, patch_size, embed_dim):\n",
    "        super(PatchEncoder, self).__init__()\n",
    "        self.image_size = image_size\n",
    "        self.in_channels = in_channels\n",
    "        self.patch_size = patch_size\n",
    "        self.patch_dim = in_channels * (patch_size**2)\n",
    "        self.num_patches = self.image_size**2 // self.patch_size**2\n",
    "\n",
    "        self.conv = nn.Conv2d(\n",
    "            in_channels=self.in_channels,\n",
    "            out_channels=self.patch_dim,\n",
    "            kernel_size=self.patch_size,\n",
    "            stride=self.patch_size,\n",
    "        )\n",
    "\n",
    "        self.embed_dim = embed_dim\n",
    "        self.encoder = nn.Linear(\n",
    "            in_features=self.patch_dim, out_features=self.embed_dim\n",
    "        )\n",
    "        self.cls_token = nn.Parameter(torch.randn(1, 1, self.embed_dim))\n",
    "        self.pos_embedding = nn.Parameter(\n",
    "            torch.randn(1, self.num_patches + 1, self.embed_dim)\n",
    "        )\n",
    "\n",
    "    def forward(self, x):\n",
    "        # (B, C, H, W) -> (B, D, H/P, W/P)\n",
    "        patches = self.conv(x)\n",
    "        b, d, _, _ = patches.shape\n",
    "\n",
    "        # (B, D, H/P, W/P) -> (B, D, Np)\n",
    "        # Np = H*W/P^2\n",
    "        patches = patches.view(b, d, -1)\n",
    "\n",
    "        # (B, D, Np) -> (B, Np, D)\n",
    "        patches = patches.transpose(1, 2)\n",
    "\n",
    "        z = self.encoder(patches)\n",
    "\n",
    "        # Add cls token\n",
    "        cls_tokens = einops.repeat(self.cls_token, \"1 1 d -> b 1 d\", b=b)\n",
    "\n",
    "        z = torch.cat((cls_tokens, z), dim=1)\n",
    "\n",
    "        # Add position embedding\n",
    "        z += self.pos_embedding\n",
    "\n",
    "        return z\n",
    "\n",
    "\n",
    "class MultiHeadSelfAttention(nn.Module):\n",
    "    def __init__(self, num_heads, embed_dim, drop_p):\n",
    "        super(MultiHeadSelfAttention, self).__init__()\n",
    "        self.num_heads = num_heads\n",
    "        self.q_net = nn.Linear(embed_dim, embed_dim)\n",
    "        self.k_net = nn.Linear(embed_dim, embed_dim)\n",
    "        self.v_net = nn.Linear(embed_dim, embed_dim)\n",
    "        self.proj_net = nn.Linear(embed_dim, embed_dim)  # W_o\n",
    "\n",
    "        self.attn_drop = nn.Dropout(drop_p)\n",
    "        self.proj_drop = nn.Dropout(drop_p)\n",
    "\n",
    "    def forward(self, x):\n",
    "        # B: batch size, T: sequence length, D: embedding dimension\n",
    "        B, T, D = x.shape\n",
    "\n",
    "        Dh = D // self.num_heads\n",
    "\n",
    "        # q, k, v: (B, num_heads, T, Dh)\n",
    "        q = self.q_net(x).view(B, T, self.num_heads, Dh).transpose(1, 2)\n",
    "        k = self.k_net(x).view(B, T, self.num_heads, Dh).transpose(1, 2)\n",
    "        v = self.v_net(x).view(B, T, self.num_heads, Dh).transpose(1, 2)\n",
    "\n",
    "        # attention matrix\n",
    "        weights = q @ k.transpose(2, 3) / math.sqrt(Dh)  # (B, k, T, T)\n",
    "        normalized_weights = F.softmax(weights, dim=-1)\n",
    "\n",
    "        # attention\n",
    "        attention = self.attn_drop(normalized_weights @ v)  # (B, k, T, Dh)\n",
    "\n",
    "        # gather head\n",
    "        attention = (\n",
    "            attention.transpose(1, 2).contiguous().view(B, T, self.num_heads * Dh)\n",
    "        )\n",
    "\n",
    "        out = self.proj_drop(self.proj_net(attention))\n",
    "        return out\n",
    "\n",
    "\n",
    "class MLP(nn.Module):\n",
    "    def __init__(self, embed_dim, mlp_dim, dropout_ratio=0.5):\n",
    "        super(MLP, self).__init__()\n",
    "        self.mlp = nn.Sequential(\n",
    "            nn.Linear(embed_dim, mlp_dim),\n",
    "            nn.GELU(),\n",
    "            nn.Dropout(dropout_ratio),\n",
    "            nn.Linear(mlp_dim, embed_dim),\n",
    "            nn.Dropout(dropout_ratio),\n",
    "        )\n",
    "\n",
    "    def forward(self, x):\n",
    "        return self.mlp(x)\n",
    "\n",
    "\n",
    "class TransformerEncoder(nn.Module):\n",
    "    def __init__(self, num_heads, embed_dim, mlp_dim, drop_p):\n",
    "        super().__init__()\n",
    "        self.layer_norm_mha = nn.LayerNorm(embed_dim)\n",
    "        self.mha = MultiHeadSelfAttention(num_heads, embed_dim, drop_p)\n",
    "        self.layer_norm_mlp = nn.LayerNorm(embed_dim)\n",
    "        self.mlp = MLP(embed_dim, mlp_dim, drop_p)\n",
    "\n",
    "    def forward(self, x):\n",
    "        x = self.mha(self.layer_norm_mha(x)) + x\n",
    "        out = self.mlp(self.layer_norm_mlp(x)) + x\n",
    "        return out\n",
    "\n",
    "\n",
    "class ViT(nn.Module):\n",
    "    def __init__(\n",
    "        self,\n",
    "        image_size,\n",
    "        in_channels,\n",
    "        patch_size,\n",
    "        num_layers,\n",
    "        embed_dim,\n",
    "        mlp_dim,\n",
    "        num_heads,\n",
    "        drop_p,\n",
    "        num_classes,\n",
    "    ):\n",
    "        super().__init__()\n",
    "        self.image_size = image_size\n",
    "        self.in_channels = in_channels\n",
    "        self.patch_size = patch_size\n",
    "        self.num_layers = num_layers\n",
    "        self.embed_dim = embed_dim\n",
    "        self.mlp_dim = mlp_dim\n",
    "        self.num_heads = num_heads\n",
    "        self.drop_p = drop_p\n",
    "        self.num_classes = num_classes\n",
    "\n",
    "        self.patch_encoder = PatchEncoder(\n",
    "            self.image_size, self.in_channels, self.patch_size, self.embed_dim\n",
    "        )\n",
    "\n",
    "        self.transformer_encoder = TransformerEncoder(\n",
    "            self.num_heads, self.embed_dim, self.mlp_dim, self.drop_p\n",
    "        )\n",
    "\n",
    "        self.cls_head = nn.Linear(self.embed_dim, self.num_classes)\n",
    "\n",
    "    def forward(self, x):\n",
    "        x = self.patch_encoder(x)\n",
    "        for i in range(self.num_layers):\n",
    "            x = self.transformer_encoder(x)\n",
    "        out = self.cls_head(x[:, 0])\n",
    "        return out"
   ]
  },
  {
   "cell_type": "markdown",
   "metadata": {},
   "source": [
    "## 3. Data Preparation"
   ]
  },
  {
   "cell_type": "markdown",
   "metadata": {},
   "source": [
    "We'll use the CIFAR-10 dataset for training and testing our ViT model."
   ]
  },
  {
   "cell_type": "code",
   "execution_count": null,
   "metadata": {},
   "outputs": [],
   "source": [
    "import torchvision\n",
    "import torchvision.transforms as transforms\n",
    "\n",
    "trainset = torchvision.datasets.CIFAR10(\n",
    "    root=\"./data\", train=True, download=True, transform=transforms.ToTensor()\n",
    ")\n",
    "testset = torchvision.datasets.CIFAR10(\n",
    "    root=\"./data\", train=False, download=True, transform=transforms.ToTensor()\n",
    ")\n",
    "\n",
    "trainloader = torch.utils.data.DataLoader(trainset, batch_size=64, shuffle=True)\n",
    "testloader = torch.utils.data.DataLoader(testset, batch_size=100, shuffle=False)"
   ]
  },
  {
   "cell_type": "markdown",
   "metadata": {},
   "source": [
    "## 4. Model Initialization"
   ]
  },
  {
   "cell_type": "markdown",
   "metadata": {},
   "source": [
    "Now, let's initialize the ViT model with the specified hyperparameters."
   ]
  },
  {
   "cell_type": "code",
   "execution_count": null,
   "metadata": {},
   "outputs": [],
   "source": [
    "# ViT-Tiny based settings\n",
    "image_size, in_channels = 32, 3\n",
    "patch_size = 4\n",
    "embed_dim = 192\n",
    "num_layers = 12\n",
    "mlp_dim = 768\n",
    "num_heads = 3\n",
    "drop_p = 0.5\n",
    "num_classes = 10\n",
    "\n",
    "net = ViT(\n",
    "    image_size=image_size,\n",
    "    in_channels=in_channels,\n",
    "    patch_size=patch_size,\n",
    "    num_layers=num_layers,\n",
    "    embed_dim=embed_dim,\n",
    "    mlp_dim=mlp_dim,\n",
    "    num_heads=num_heads,\n",
    "    drop_p=drop_p,\n",
    "    num_classes=num_classes,\n",
    ")\n",
    "criterion = torch.nn.CrossEntropyLoss()\n",
    "optimizer = torch.optim.SGD(net.parameters(), lr=0.001, momentum=0.9)"
   ]
  },
  {
   "cell_type": "markdown",
   "metadata": {},
   "source": [
    "## 5. Training"
   ]
  },
  {
   "cell_type": "markdown",
   "metadata": {},
   "source": [
    "Let's train the model for a few epochs."
   ]
  },
  {
   "cell_type": "code",
   "execution_count": null,
   "metadata": {},
   "outputs": [],
   "source": [
    "for epoch in range(10):\n",
    "    for i, (images, labels) in enumerate(trainloader):\n",
    "        # Forward propagation\n",
    "        outputs = net(images)\n",
    "        # Calculate the loss\n",
    "        loss = criterion(outputs, labels)\n",
    "        # Back propagation\n",
    "        optimizer.zero_grad()\n",
    "        loss.backward()\n",
    "        optimizer.step()\n",
    "\n",
    "    # Print the progress of the training\n",
    "    if epoch % 1 == 0:\n",
    "        print(\"Epoch: {} Loss: {:.4f}\".format(epoch, loss.item()))"
   ]
  },
  {
   "cell_type": "markdown",
   "metadata": {},
   "source": [
    "## 6. Evaluation"
   ]
  },
  {
   "cell_type": "markdown",
   "metadata": {},
   "source": [
    "Finally, let's evaluate the trained model on the test set."
   ]
  },
  {
   "cell_type": "code",
   "execution_count": null,
   "metadata": {},
   "outputs": [],
   "source": [
    "correct = 0\n",
    "total = 0\n",
    "for images, labels in testloader:\n",
    "    outputs = net(images)\n",
    "    _, predicted = torch.max(outputs.data, 1)\n",
    "    total += labels.size(0)\n",
    "    correct += (predicted == labels).sum().item()\n",
    "\n",
    "print(\"Accuracy: {:.2f}%\".format(100 * correct / total))"
   ]
  }
 ],
 "metadata": {
  "kernelspec": {
   "display_name": "Python 3",
   "language": "python",
   "name": "python3"
  },
  "language_info": {
   "codemirror_mode": {
    "name": "ipython",
    "version": 3
   },
   "file_extension": ".py",
   "mimetype": "text/x-python",
   "name": "python",
   "nbconvert_exporter": "python",
   "pygments_lexer": "ipython3",
   "version": "3.11.0"
  }
 },
 "nbformat": 4,
 "nbformat_minor": 4
}